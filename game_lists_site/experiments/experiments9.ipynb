{
 "cells": [
  {
   "cell_type": "code",
   "execution_count": 2,
   "metadata": {},
   "outputs": [
    {
     "name": "stderr",
     "output_type": "stream",
     "text": [
      "/home/nikohonu/.cache/pypoetry/virtualenvs/game-lists-site-LdBYsaDo-py3.10/lib/python3.10/site-packages/tqdm/auto.py:22: TqdmWarning: IProgress not found. Please update jupyter and ipywidgets. See https://ipywidgets.readthedocs.io/en/stable/user_install.html\n",
      "  from .autonotebook import tqdm as notebook_tqdm\n"
     ]
    }
   ],
   "source": [
    "import datetime as dt\n",
    "import json\n",
    "from operator import itemgetter\n",
    "\n",
    "import numpy as np\n",
    "from sklearn import preprocessing\n",
    "from sklearn.feature_extraction.text import CountVectorizer\n",
    "from sklearn.metrics.pairwise import cosine_similarity\n",
    "\n",
    "from game_lists_site.models import (\n",
    "    Game,\n",
    "    GameCBR,\n",
    "    GameDeveloper,\n",
    "    GameGenre,\n",
    "    GameStats,\n",
    "    GameTag,\n",
    "    System,\n",
    "    User,\n",
    "    UserCBR,\n",
    "    UserGame,\n",
    "    db,\n",
    ")\n",
    "from game_lists_site.utils.utils import days_delta, get_game_stats, normalize_dict"
   ]
  },
  {
   "cell_type": "code",
   "execution_count": 3,
   "metadata": {},
   "outputs": [],
   "source": [
    "def get_cbr_for_game(game, result_count=9, min_player_count=28):\n",
    "    system, _ = System.get_or_create(key=\"GameCBR\")\n",
    "    if not system.date_time_value or days_delta(system.date_time_value) >= 7:\n",
    "        print(\"get_cbr_for_game\")\n",
    "        games = []\n",
    "        features = []\n",
    "        for gs in GameStats.select(GameStats.game, GameStats.features).where(\n",
    "            GameStats.player_count >= min_player_count\n",
    "        ):\n",
    "            games.append(gs.game)\n",
    "            features.append(gs.features)\n",
    "        vectorizer = CountVectorizer()\n",
    "        X = vectorizer.fit_transform(features)\n",
    "        csr = cosine_similarity(X, X)  # cosine similarity result\n",
    "        for g_a, row in zip(games, csr):\n",
    "            l = 0\n",
    "            precision = 0.7\n",
    "            while l < 50:\n",
    "                result = dict(\n",
    "                    sorted(\n",
    "                        [\n",
    "                            (g_b.id, value)\n",
    "                            for g_b, value in zip(games, row)\n",
    "                            if value >= precision\n",
    "                        ],\n",
    "                        key=itemgetter(1),\n",
    "                        reverse=True,\n",
    "                    )\n",
    "                )\n",
    "                l = len(result)\n",
    "                precision -= 0.05\n",
    "            game_cbr, _ = GameCBR.get_or_create(game=g_a)\n",
    "            game_cbr.data = json.dumps(result)\n",
    "            game_cbr.save()\n",
    "        system.date_time_value = dt.datetime.now()\n",
    "        system.save()\n",
    "    game_cbr = GameCBR.get_or_none(game=game)\n",
    "    if game_cbr:\n",
    "        data = {\n",
    "            Game.get_by_id(game_id): value\n",
    "            for game_id, value in json.loads(game_cbr.data).items()\n",
    "        }\n",
    "        return dict(list(data.items())[1 : result_count + 1])\n",
    "    else:\n",
    "        return {}"
   ]
  },
  {
   "cell_type": "code",
   "execution_count": 4,
   "metadata": {},
   "outputs": [],
   "source": [
    "def get_cbr_for_user(user, played_user_games, result_count=9, cbr_for_game_result_count = 6, min_player_count = 10,  force=False):\n",
    "    if not user.last_cbr_update_time or days_delta(user.last_cbr_update_time) >= 7 or force:\n",
    "        print(\"get_cbr_for_user\")\n",
    "        played_games = [ug.game for ug in played_user_games]\n",
    "        user_games_with_score = played_user_games.where(UserGame.score != None)\n",
    "        games_with_score = [ug.game for ug in user_games_with_score]\n",
    "        result = {}\n",
    "        for user_game, game_cbr_result in zip(\n",
    "            user_games_with_score, [get_cbr_for_game(g, cbr_for_game_result_count, min_player_count) for g in games_with_score]\n",
    "        ):\n",
    "            if game_cbr_result:\n",
    "                for sim_game in game_cbr_result:\n",
    "                    if sim_game not in played_games and sim_game.rating >= 7:\n",
    "                        if sim_game.id not in result:\n",
    "                            result[sim_game.id] = (\n",
    "                                user_game.score * game_cbr_result[sim_game]\n",
    "                            )\n",
    "                        else:\n",
    "                            result[sim_game.id] += (\n",
    "                                user_game.score * game_cbr_result[sim_game]\n",
    "                            )\n",
    "        user_cbr, _ = UserCBR.get_or_create(user=user)\n",
    "        user_cbr.data = json.dumps(normalize_dict(\n",
    "            dict(sorted(result.items(), key=lambda x: x[1], reverse=True)))\n",
    "        )\n",
    "        user_cbr.save()\n",
    "        user.last_cbr_update_time = dt.datetime.now()\n",
    "        user.save()\n",
    "    data = {\n",
    "        Game.get_by_id(game_id): value\n",
    "        for game_id, value in json.loads(\n",
    "            UserCBR.get_or_none(UserCBR.user == user).data\n",
    "        ).items()\n",
    "    }\n",
    "    return dict(list(data.items())[:result_count])"
   ]
  },
  {
   "cell_type": "code",
   "execution_count": 6,
   "metadata": {},
   "outputs": [],
   "source": [
    "db.rollback()\n",
    "# user.last_cbr_update_time = None\n",
    "# user.save()\n",
    "# game = Game.get_by_id(412020)"
   ]
  },
  {
   "cell_type": "code",
   "execution_count": 20,
   "metadata": {},
   "outputs": [
    {
     "name": "stdout",
     "output_type": "stream",
     "text": [
      "7\n"
     ]
    }
   ],
   "source": [
    "users = []\n",
    "for user in User.select():\n",
    "    count = (\n",
    "        UserGame.select(UserGame.score)\n",
    "        .where(UserGame.user == user)\n",
    "        .where(UserGame.score > 0)\n",
    "        .count()\n",
    "    )\n",
    "    if count >= 10:\n",
    "        users.append(user)\n",
    "print(len(users))"
   ]
  },
  {
   "cell_type": "code",
   "execution_count": 21,
   "metadata": {},
   "outputs": [
    {
     "data": {
      "text/plain": [
       "11.0"
      ]
     },
     "execution_count": 21,
     "metadata": {},
     "output_type": "execute_result"
    }
   ],
   "source": [
    "np.quantile([gs.player_count for gs in GameStats.select()], 0.90)"
   ]
  },
  {
   "cell_type": "code",
   "execution_count": 22,
   "metadata": {},
   "outputs": [
    {
     "name": "stdout",
     "output_type": "stream",
     "text": [
      "Iteration #1224\n",
      "cbr_for_game_result_count 49\n",
      "min_player_count 49\n",
      "0.06182472989195679\n",
      "------------------------\n",
      "Best Iteration\n",
      "cbr_for_game_result_count 8\n",
      "min_player_count 46\n",
      "0.12407424508264842\n",
      "------------------------\n"
     ]
    }
   ],
   "source": [
    "import random\n",
    "from itertools import combinations_with_replacement\n",
    "import pandas as pd\n",
    "\n",
    "import matplotlib.pyplot as plt\n",
    "from IPython.display import clear_output, display\n",
    "\n",
    "max_accuracy = 0 # 2\n",
    "best_cbr_for_game_result_count = 0 # 2\n",
    "best_min_player_count = 0  # 54\n",
    "comb = combinations_with_replacement(range(1, 50, 1), 2)\n",
    "xline = []\n",
    "yline = []\n",
    "zline = []\n",
    "data = {}\n",
    "for user in users:\n",
    "    played_user_games = UserGame.select().where(UserGame.user == user).where(UserGame.playtime > 0)\n",
    "    last_played = np.quantile([ug.last_played for ug in played_user_games], 0.8)\n",
    "    input_data = played_user_games.where(UserGame.last_played < last_played)\n",
    "    check_data = played_user_games.where(UserGame.last_played >= last_played)\n",
    "    data[user] = [input_data, check_data]\n",
    "for i, c in enumerate(comb):\n",
    "    system, _ = System.get_or_create(key=\"GameCBR\")\n",
    "    system.date_time_value = None\n",
    "    system.save()\n",
    "    cbr_for_game_result_count = c[0]\n",
    "    min_player_count = c[1]\n",
    "    accuracy = []\n",
    "    for user, d in data.items():\n",
    "        result = get_cbr_for_user(user, d[0], d[1].count(), cbr_for_game_result_count, min_player_count, True)\n",
    "        intersection_count = len(set([ug.game for ug in d[1]]).intersection(list(result.keys())))\n",
    "        accuracy.append(intersection_count / len(d[1]))\n",
    "    accuracy = np.mean(accuracy)\n",
    "    if accuracy > max_accuracy:\n",
    "        max_accuracy = accuracy\n",
    "        best_cbr_for_game_result_count = cbr_for_game_result_count\n",
    "        best_min_player_count = min_player_count\n",
    "    xline.append(cbr_for_game_result_count)\n",
    "    yline.append(min_player_count)\n",
    "    zline.append(accuracy)\n",
    "    clear_output(wait=True)\n",
    "    print(f\"Iteration #{i}\")\n",
    "    print(\"cbr_for_game_result_count\", cbr_for_game_result_count)\n",
    "    print(\"min_player_count\", min_player_count)\n",
    "    print(accuracy)\n",
    "    print(\"-\"*24)\n",
    "    print(f\"Best Iteration\")\n",
    "    print(\"cbr_for_game_result_count\", best_cbr_for_game_result_count)\n",
    "    print(\"min_player_count\", best_min_player_count)\n",
    "    print(max_accuracy)\n",
    "    print(\"-\"*24)\n",
    "    result = []\n",
    "    for x,y,z in zip(xline, yline, zline):\n",
    "        result.append((x,y,z))\n",
    "    result = sorted(result, key=lambda x: x[2], reverse=True)\n",
    "    result = sorted(result, key=lambda x: x[1])\n",
    "    df = pd.DataFrame(result)\n",
    "    df.to_csv(\"result.csv\", index=False)\n",
    "# clear_output(wait=True)\n"
   ]
  }
 ],
 "metadata": {
  "kernelspec": {
   "display_name": "Python 3.10.8 ('game-lists-site-LdBYsaDo-py3.10')",
   "language": "python",
   "name": "python3"
  },
  "language_info": {
   "codemirror_mode": {
    "name": "ipython",
    "version": 3
   },
   "file_extension": ".py",
   "mimetype": "text/x-python",
   "name": "python",
   "nbconvert_exporter": "python",
   "pygments_lexer": "ipython3",
   "version": "3.10.8"
  },
  "orig_nbformat": 4,
  "vscode": {
   "interpreter": {
    "hash": "dec19c2d43942376edf2e6e02c16686986e9d3bcd611ba70d2d35fdae1aa617c"
   }
  }
 },
 "nbformat": 4,
 "nbformat_minor": 2
}
