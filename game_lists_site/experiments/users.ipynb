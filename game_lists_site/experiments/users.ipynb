{
 "cells": [
  {
   "cell_type": "code",
   "execution_count": 90,
   "metadata": {},
   "outputs": [],
   "source": [
    "import datetime as dt\n",
    "\n",
    "import numpy as np\n",
    "from sklearn.feature_extraction.text import CountVectorizer\n",
    "from sklearn.metrics.pairwise import cosine_similarity\n",
    "\n",
    "from game_lists_site.models import Game, System, UserGame, User\n",
    "from game_lists_site.algorithms.game import update_cbr_for_game\n",
    "from game_lists_site.utilities import (\n",
    "    ParametersManager,\n",
    "    days_delta,\n",
    "    get_game_vecs,\n",
    "    merge_dicts,\n",
    "    normalize_dict,\n",
    "    get_readable_result_for_games,\n",
    "    get_normalized_playtimes\n",
    ")"
   ]
  },
  {
   "cell_type": "code",
   "execution_count": 91,
   "metadata": {},
   "outputs": [],
   "source": [
    "from unittest import result\n",
    "\n",
    "\n",
    "def update_cbr_for_user(user, **current_parameters):\n",
    "    p = ParametersManager(\n",
    "        \"cbr_for_user\",\n",
    "        current_parameters,\n",
    "        {\"min_player_count\": 12, \"cbr_for_game_result_count\": 2, \"zscore\": False},\n",
    "    )\n",
    "    if days_delta(user.cbr_update_time) >= 1 or p.is_diff_last_current():\n",
    "        update_cbr_for_game(min_player_count=p[\"min_player_count\"])\n",
    "        print(f'update cbr for \"{user.username}\"')\n",
    "        user.cbr = None\n",
    "        played_games = (\n",
    "            Game.select(Game.id, Game.cbr, UserGame.score)\n",
    "            .join(UserGame)\n",
    "            .where((UserGame.user == user) & (UserGame.playtime > 0))\n",
    "        )\n",
    "        games_with_score = played_games.where((UserGame.score > 0) & (Game.cbr != None))\n",
    "        # use normalized playtimes if not enough games with score\n",
    "        if games_with_score.count() < 10:\n",
    "            users_games_playtimes = get_normalized_playtimes(p[\"min_player_count\"], p[\"zscore\"], True)\n",
    "            user_games_playtimes = users_games_playtimes[user.id] if user.id in users_games_playtimes else []\n",
    "            result = []\n",
    "            for game in played_games:\n",
    "                if game.id in user_games_playtimes.keys():\n",
    "                    if game.cbr:\n",
    "                        result.append(\n",
    "                            {\n",
    "                                \"id\": game.id,\n",
    "                                \"cbr\": game.cbr,\n",
    "                                \"score\": user_games_playtimes[game.id]\n",
    "                            }\n",
    "                        )\n",
    "                games_with_score = result\n",
    "        else:\n",
    "            games_with_score = games_with_score.dicts()\n",
    "        # calc result\n",
    "        result = []\n",
    "        for game_a_dict in games_with_score:\n",
    "            result.append(\n",
    "                {\n",
    "                    key: value * game_a_dict[\"score\"]\n",
    "                    for key, value in list(game_a_dict[\"cbr\"].items())[\n",
    "                        1 : p[\"cbr_for_game_result_count\"] + 1\n",
    "                    ]\n",
    "                }\n",
    "            )\n",
    "        result = {str(game.id): value for game, value in get_readable_result_for_games(merge_dicts(result)).items() if game not in played_games}\n",
    "        user.cbr = result\n",
    "        user.cbr_update_time = dt.datetime.now()\n",
    "        user.save()\n"
   ]
  },
  {
   "cell_type": "code",
   "execution_count": 92,
   "metadata": {},
   "outputs": [
    {
     "name": "stdout",
     "output_type": "stream",
     "text": [
      "update cbr for \"Vemestael\"\n"
     ]
    }
   ],
   "source": [
    "# user = User.get_by_id(76561198083927294)\n",
    "# update_cbr_for_user(user)\n",
    "user = User.get_by_id(76561198394079733)\n",
    "update_cbr_for_user(user)"
   ]
  }
 ],
 "metadata": {
  "kernelspec": {
   "display_name": "Python 3.10.8 ('game-lists-site-LdBYsaDo-py3.10')",
   "language": "python",
   "name": "python3"
  },
  "language_info": {
   "codemirror_mode": {
    "name": "ipython",
    "version": 3
   },
   "file_extension": ".py",
   "mimetype": "text/x-python",
   "name": "python",
   "nbconvert_exporter": "python",
   "pygments_lexer": "ipython3",
   "version": "3.10.8"
  },
  "orig_nbformat": 4,
  "vscode": {
   "interpreter": {
    "hash": "dec19c2d43942376edf2e6e02c16686986e9d3bcd611ba70d2d35fdae1aa617c"
   }
  }
 },
 "nbformat": 4,
 "nbformat_minor": 2
}
